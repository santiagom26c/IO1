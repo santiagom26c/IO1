{
  "nbformat": 4,
  "nbformat_minor": 0,
  "metadata": {
    "colab": {
      "provenance": [],
      "authorship_tag": "ABX9TyOdXL/y0IXa5jNSAfJYfMpx",
      "include_colab_link": true
    },
    "kernelspec": {
      "name": "python3",
      "display_name": "Python 3"
    },
    "language_info": {
      "name": "python"
    }
  },
  "cells": [
    {
      "cell_type": "markdown",
      "metadata": {
        "id": "view-in-github",
        "colab_type": "text"
      },
      "source": [
        "<a href=\"https://colab.research.google.com/github/santiagom26c/IO1/blob/main/Solucion.ipynb\" target=\"_parent\"><img src=\"https://colab.research.google.com/assets/colab-badge.svg\" alt=\"Open In Colab\"/></a>"
      ]
    },
    {
      "cell_type": "code",
      "execution_count": 52,
      "metadata": {
        "colab": {
          "base_uri": "https://localhost:8080/"
        },
        "id": "wvxVOp1FewEC",
        "outputId": "4a0e62ec-1a12-4619-b6aa-ee1004478f0a"
      },
      "outputs": [
        {
          "output_type": "stream",
          "name": "stdout",
          "text": [
            "\n",
            "Valor optimo =  inf\n",
            "Solucion para X = \n",
            "None\n"
          ]
        }
      ],
      "source": [
        "#Se resolvera el problema propuesto por el metodo OSQP\n",
        "\n",
        "#Se importan librerias necesarias\n",
        "import cvxpy as cp\n",
        "import numpy as np\n",
        "\n",
        "#Se crean matrices c, A y d\n",
        "c = np.array([3,8])\n",
        "A = np.array([[-1, -1],[1, -1],[1, 0],[0, 1]])\n",
        "b = np.array([-50,20,0,0])\n",
        "\n",
        "#Se define variables, funcion objetivo y restriciones\n",
        "x = cp.Variable(2)\n",
        "fobj = cp.Minimize(c@x) \n",
        "restr = [A@x<=b]\n",
        "problem = cp.Problem(fobj,restr)\n",
        "\n",
        "#Se resuelve el problema\n",
        "problem.solve(solver=cp.OSQP)\n",
        "\n",
        "#Se imprimen los resultados\n",
        "print(\"\\nValor optimo = \", problem.value)\n",
        "print(\"Solucion para X = \")\n",
        "print(x.value)\n"
      ]
    },
    {
      "cell_type": "code",
      "source": [
        "#Se resolvera el problema propuesto por el metodo ECOS\n",
        "\n",
        "#Se importan librerias necesarias\n",
        "import cvxpy as cp\n",
        "import numpy as np\n",
        "\n",
        "#Se crean matrices c, A y d\n",
        "c = np.array([3,8])\n",
        "A = np.array([[-1, -1],[1, -1],[1, 0],[0, 1]])\n",
        "b = np.array([-50,20,0,0])\n",
        "\n",
        "#Se define variables, funcion objetivo y restriciones\n",
        "x = cp.Variable(2)\n",
        "fobj = cp.Minimize(c@x) \n",
        "restr = [A@x<=b]\n",
        "problem = cp.Problem(fobj,restr)\n",
        "\n",
        "#Se resuelve el problema\n",
        "problem.solve(solver=cp.ECOS)\n",
        "\n",
        "#Se imprimen los resultados\n",
        "print(\"\\nValor optimo = \", problem.value)\n",
        "print(\"Solucion para X = \")\n",
        "print(x.value)"
      ],
      "metadata": {
        "colab": {
          "base_uri": "https://localhost:8080/"
        },
        "id": "TiREkCEItyOh",
        "outputId": "67735a6c-39de-49b7-83ae-9d125f33d9c8"
      },
      "execution_count": 51,
      "outputs": [
        {
          "output_type": "stream",
          "name": "stdout",
          "text": [
            "\n",
            "Valor optimo =  inf\n",
            "Solucion para X = \n",
            "None\n"
          ]
        }
      ]
    },
    {
      "cell_type": "markdown",
      "source": [
        "Por ambos metodos el valor optimo fue infinito y los valores de x ninguno, por lo cual se puede concluir que el problema no tiene solucion, es decir, no esta acotado."
      ],
      "metadata": {
        "id": "z09g12OOzFqL"
      }
    }
  ]
}