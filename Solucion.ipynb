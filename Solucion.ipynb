{
  "nbformat": 4,
  "nbformat_minor": 0,
  "metadata": {
    "colab": {
      "provenance": [],
      "authorship_tag": "ABX9TyPF7DAkqvLtt1opHGzsPZTf",
      "include_colab_link": true
    },
    "kernelspec": {
      "name": "python3",
      "display_name": "Python 3"
    },
    "language_info": {
      "name": "python"
    }
  },
  "cells": [
    {
      "cell_type": "markdown",
      "metadata": {
        "id": "view-in-github",
        "colab_type": "text"
      },
      "source": [
        "<a href=\"https://colab.research.google.com/github/santiagom26c/IO1/blob/main/Solucion.ipynb\" target=\"_parent\"><img src=\"https://colab.research.google.com/assets/colab-badge.svg\" alt=\"Open In Colab\"/></a>"
      ]
    },
    {
      "cell_type": "code",
      "execution_count": 1,
      "metadata": {
        "colab": {
          "base_uri": "https://localhost:8080/"
        },
        "id": "23CWveMZUcJ2",
        "outputId": "718ad0b3-b129-46ad-8d84-e62e648b79ae"
      },
      "outputs": [
        {
          "output_type": "stream",
          "name": "stdout",
          "text": [
            "\n",
            "Valor optimo =  225.0\n",
            "Solucion para X = \n",
            "[35. 15.]\n"
          ]
        }
      ],
      "source": [
        "#Se resolvera el problema propuesto por el metodo OSQP\n",
        "\n",
        "#Se importan librerias necesarias\n",
        "import cvxpy as cp\n",
        "import numpy as np\n",
        "\n",
        "#Se crean matrices c, A y d\n",
        "c = np.array([3,8])\n",
        "A = np.array([[-1, -1],[1, -1],[-1, 0],[0, -1]])\n",
        "b = np.array([-50,20,0,0])\n",
        "\n",
        "#Se define variables, funcion objetivo y restriciones\n",
        "x = cp.Variable(2)\n",
        "fobj = cp.Minimize(c@x) \n",
        "restr = [A@x<=b]\n",
        "problem = cp.Problem(fobj,restr)\n",
        "\n",
        "#Se resuelve el problema\n",
        "problem.solve(solver=cp.OSQP)\n",
        "\n",
        "#Se imprimen los resultados\n",
        "print(\"\\nValor optimo = \", problem.value)\n",
        "print(\"Solucion para X = \")\n",
        "print(x.value)\n"
      ]
    },
    {
      "cell_type": "code",
      "source": [
        "#Se resolvera el problema propuesto por el metodo ECOS\n",
        "\n",
        "#Se importan librerias necesarias\n",
        "import cvxpy as cp\n",
        "import numpy as np\n",
        "\n",
        "#Se crean matrices c, A y d\n",
        "c = np.array([3,8])\n",
        "A = np.array([[-1, -1],[1, -1],[-1, 0],[0, -1]])\n",
        "b = np.array([-50,20,0,0])\n",
        "\n",
        "#Se define variables, funcion objetivo y restriciones\n",
        "x = cp.Variable(2)\n",
        "fobj = cp.Minimize(c@x) \n",
        "restr = [A@x<=b]\n",
        "problem = cp.Problem(fobj,restr)\n",
        "\n",
        "#Se resuelve el problema\n",
        "problem.solve(solver=cp.ECOS)\n",
        "\n",
        "#Se imprimen los resultados\n",
        "print(\"\\nValor optimo = \", problem.value)\n",
        "print(\"Solucion para X = \")\n",
        "print(x.value)"
      ],
      "metadata": {
        "colab": {
          "base_uri": "https://localhost:8080/"
        },
        "id": "84lNBES4Ui02",
        "outputId": "a8b88495-c8ff-49b3-9160-55b51089cfd6"
      },
      "execution_count": 2,
      "outputs": [
        {
          "output_type": "stream",
          "name": "stdout",
          "text": [
            "\n",
            "Valor optimo =  224.9999996816037\n",
            "Solucion para X = \n",
            "[35.         14.99999996]\n"
          ]
        }
      ]
    },
    {
      "cell_type": "markdown",
      "source": [
        "Por ambos metodos se llega practicamente al mismo resultado, sin embargo, uno es mas preciso que otro debido a su manera de llegar al mismo."
      ],
      "metadata": {
        "id": "AwiYs34bUnoX"
      }
    }
  ]
}